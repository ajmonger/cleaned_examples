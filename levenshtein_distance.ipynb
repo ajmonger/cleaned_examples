{
 "cells": [
  {
   "cell_type": "code",
   "execution_count": null,
   "metadata": {},
   "outputs": [],
   "source": [
    "# https://dzone.com/articles/the-levenshtein-algorithm-1\n",
    "\n",
    "# The Levenshtein distance is a string metric for measuring the difference between two sequences. Informally, the Levenshtein distance between two words is the minimum number of single-character edits (i.e. insertions, deletions, or substitutions) required to change one word into the other."
   ]
  },
  {
   "cell_type": "code",
   "execution_count": 1,
   "metadata": {},
   "outputs": [],
   "source": [
    "import pandas as pd\n",
    "import numpy as np    \n",
    "from Levenshtein import distance\n",
    "from scipy.spatial.distance import pdist, squareform"
   ]
  },
  {
   "cell_type": "markdown",
   "metadata": {},
   "source": [
    "# Load Data"
   ]
  },
  {
   "cell_type": "code",
   "execution_count": 2,
   "metadata": {},
   "outputs": [],
   "source": [
    "https://alphabetizer.flap.tv/lists/list-of-fruits-and-vegetables.php \n",
    "#266 vegtable records  \n",
    "data = 'vegtable_data.csv'\n",
    "df = pd.read_csv(data)\n",
    "df = df.reset_index()"
   ]
  },
  {
   "cell_type": "code",
   "execution_count": 3,
   "metadata": {},
   "outputs": [
    {
     "data": {
      "text/html": "<div>\n<style scoped>\n    .dataframe tbody tr th:only-of-type {\n        vertical-align: middle;\n    }\n\n    .dataframe tbody tr th {\n        vertical-align: top;\n    }\n\n    .dataframe thead th {\n        text-align: right;\n    }\n</style>\n<table border=\"1\" class=\"dataframe\">\n  <thead>\n    <tr style=\"text-align: right;\">\n      <th></th>\n      <th>index</th>\n      <th>vegtable_names</th>\n    </tr>\n  </thead>\n  <tbody>\n    <tr>\n      <td>0</td>\n      <td>0</td>\n      <td>Alfalfa Sprouts</td>\n    </tr>\n    <tr>\n      <td>1</td>\n      <td>1</td>\n      <td>Apple</td>\n    </tr>\n    <tr>\n      <td>2</td>\n      <td>2</td>\n      <td>Apricot</td>\n    </tr>\n    <tr>\n      <td>3</td>\n      <td>3</td>\n      <td>Artichoke</td>\n    </tr>\n    <tr>\n      <td>4</td>\n      <td>4</td>\n      <td>Asian Pear</td>\n    </tr>\n  </tbody>\n</table>\n</div>",
      "text/plain": "   index   vegtable_names\n0      0  Alfalfa Sprouts\n1      1            Apple\n2      2          Apricot\n3      3        Artichoke\n4      4       Asian Pear"
     },
     "execution_count": 3,
     "metadata": {},
     "output_type": "execute_result"
    }
   ],
   "source": [
    "# 133 correct spellings\n",
    "df[:5]"
   ]
  },
  {
   "cell_type": "code",
   "execution_count": 4,
   "metadata": {},
   "outputs": [
    {
     "data": {
      "text/html": "<div>\n<style scoped>\n    .dataframe tbody tr th:only-of-type {\n        vertical-align: middle;\n    }\n\n    .dataframe tbody tr th {\n        vertical-align: top;\n    }\n\n    .dataframe thead th {\n        text-align: right;\n    }\n</style>\n<table border=\"1\" class=\"dataframe\">\n  <thead>\n    <tr style=\"text-align: right;\">\n      <th></th>\n      <th>index</th>\n      <th>vegtable_names</th>\n    </tr>\n  </thead>\n  <tbody>\n    <tr>\n      <td>133</td>\n      <td>133</td>\n      <td>lflf Sprts</td>\n    </tr>\n    <tr>\n      <td>134</td>\n      <td>134</td>\n      <td>ppl</td>\n    </tr>\n    <tr>\n      <td>135</td>\n      <td>135</td>\n      <td>prct</td>\n    </tr>\n    <tr>\n      <td>136</td>\n      <td>136</td>\n      <td>rtchk</td>\n    </tr>\n    <tr>\n      <td>137</td>\n      <td>137</td>\n      <td>sn Pr</td>\n    </tr>\n  </tbody>\n</table>\n</div>",
      "text/plain": "     index vegtable_names\n133    133     lflf Sprts\n134    134            ppl\n135    135           prct\n136    136          rtchk\n137    137          sn Pr"
     },
     "execution_count": 4,
     "metadata": {},
     "output_type": "execute_result"
    }
   ],
   "source": [
    "# 133 with vowels removed\n",
    "df[133:138]"
   ]
  },
  {
   "cell_type": "markdown",
   "metadata": {},
   "source": [
    "# Distance Metrics"
   ]
  },
  {
   "cell_type": "code",
   "execution_count": 5,
   "metadata": {},
   "outputs": [],
   "source": [
    "veg_list = list(df['vegtable_names'])"
   ]
  },
  {
   "cell_type": "code",
   "execution_count": 6,
   "metadata": {},
   "outputs": [],
   "source": [
    "# list to 2 dim array \n",
    "transformed_strings = np.array(veg_list).reshape(-1,1)\n",
    "\n",
    "# create distance matrix\n",
    "distance_matrix = pdist(transformed_strings,lambda x,y: distance(x[0],y[0]))\n"
   ]
  },
  {
   "cell_type": "code",
   "execution_count": 7,
   "metadata": {},
   "outputs": [
    {
     "data": {
      "text/plain": "(35245,)"
     },
     "execution_count": 7,
     "metadata": {},
     "output_type": "execute_result"
    }
   ],
   "source": [
    "distance_matrix.shape"
   ]
  },
  {
   "cell_type": "code",
   "execution_count": 8,
   "metadata": {},
   "outputs": [],
   "source": [
    "# Create quare matrix.\n",
    "sq_distance_matrix = squareform(distance_matrix)"
   ]
  },
  {
   "cell_type": "code",
   "execution_count": 9,
   "metadata": {},
   "outputs": [
    {
     "data": {
      "text/plain": "(266, 266)"
     },
     "execution_count": 9,
     "metadata": {},
     "output_type": "execute_result"
    }
   ],
   "source": [
    "sq_distance_matrix.shape"
   ]
  },
  {
   "cell_type": "markdown",
   "metadata": {},
   "source": [
    "# Fill diagonal"
   ]
  },
  {
   "cell_type": "code",
   "execution_count": 10,
   "metadata": {},
   "outputs": [],
   "source": [
    "#1000 is arbitary number. Need a number higher than any distance change measurement\n",
    "np.fill_diagonal(sq_distance_matrix, 1000)"
   ]
  },
  {
   "cell_type": "code",
   "execution_count": 11,
   "metadata": {},
   "outputs": [
    {
     "data": {
      "text/html": "<div>\n<style scoped>\n    .dataframe tbody tr th:only-of-type {\n        vertical-align: middle;\n    }\n\n    .dataframe tbody tr th {\n        vertical-align: top;\n    }\n\n    .dataframe thead th {\n        text-align: right;\n    }\n</style>\n<table border=\"1\" class=\"dataframe\">\n  <thead>\n    <tr style=\"text-align: right;\">\n      <th></th>\n      <th>0</th>\n      <th>1</th>\n      <th>2</th>\n      <th>3</th>\n      <th>4</th>\n      <th>5</th>\n      <th>6</th>\n      <th>7</th>\n      <th>8</th>\n      <th>9</th>\n      <th>...</th>\n      <th>256</th>\n      <th>257</th>\n      <th>258</th>\n      <th>259</th>\n      <th>260</th>\n      <th>261</th>\n      <th>262</th>\n      <th>263</th>\n      <th>264</th>\n      <th>265</th>\n    </tr>\n  </thead>\n  <tbody>\n    <tr>\n      <td>0</td>\n      <td>1000.0</td>\n      <td>13.0</td>\n      <td>12.0</td>\n      <td>13.0</td>\n      <td>12.0</td>\n      <td>10.0</td>\n      <td>13.0</td>\n      <td>12.0</td>\n      <td>10.0</td>\n      <td>13.0</td>\n      <td>...</td>\n      <td>14.0</td>\n      <td>11.0</td>\n      <td>12.0</td>\n      <td>13.0</td>\n      <td>14.0</td>\n      <td>13.0</td>\n      <td>14.0</td>\n      <td>11.0</td>\n      <td>15.0</td>\n      <td>13.0</td>\n    </tr>\n    <tr>\n      <td>1</td>\n      <td>13.0</td>\n      <td>1000.0</td>\n      <td>5.0</td>\n      <td>7.0</td>\n      <td>8.0</td>\n      <td>7.0</td>\n      <td>6.0</td>\n      <td>6.0</td>\n      <td>13.0</td>\n      <td>6.0</td>\n      <td>...</td>\n      <td>5.0</td>\n      <td>6.0</td>\n      <td>11.0</td>\n      <td>7.0</td>\n      <td>5.0</td>\n      <td>7.0</td>\n      <td>5.0</td>\n      <td>8.0</td>\n      <td>6.0</td>\n      <td>10.0</td>\n    </tr>\n    <tr>\n      <td>2</td>\n      <td>12.0</td>\n      <td>5.0</td>\n      <td>1000.0</td>\n      <td>5.0</td>\n      <td>9.0</td>\n      <td>6.0</td>\n      <td>6.0</td>\n      <td>6.0</td>\n      <td>11.0</td>\n      <td>7.0</td>\n      <td>...</td>\n      <td>6.0</td>\n      <td>6.0</td>\n      <td>9.0</td>\n      <td>6.0</td>\n      <td>6.0</td>\n      <td>7.0</td>\n      <td>7.0</td>\n      <td>8.0</td>\n      <td>7.0</td>\n      <td>10.0</td>\n    </tr>\n    <tr>\n      <td>3</td>\n      <td>13.0</td>\n      <td>7.0</td>\n      <td>5.0</td>\n      <td>1000.0</td>\n      <td>8.0</td>\n      <td>8.0</td>\n      <td>6.0</td>\n      <td>7.0</td>\n      <td>11.0</td>\n      <td>9.0</td>\n      <td>...</td>\n      <td>8.0</td>\n      <td>9.0</td>\n      <td>10.0</td>\n      <td>7.0</td>\n      <td>8.0</td>\n      <td>9.0</td>\n      <td>9.0</td>\n      <td>9.0</td>\n      <td>9.0</td>\n      <td>10.0</td>\n    </tr>\n    <tr>\n      <td>4</td>\n      <td>12.0</td>\n      <td>8.0</td>\n      <td>9.0</td>\n      <td>8.0</td>\n      <td>1000.0</td>\n      <td>7.0</td>\n      <td>8.0</td>\n      <td>9.0</td>\n      <td>12.0</td>\n      <td>7.0</td>\n      <td>...</td>\n      <td>9.0</td>\n      <td>9.0</td>\n      <td>11.0</td>\n      <td>10.0</td>\n      <td>10.0</td>\n      <td>9.0</td>\n      <td>9.0</td>\n      <td>9.0</td>\n      <td>10.0</td>\n      <td>8.0</td>\n    </tr>\n    <tr>\n      <td>5</td>\n      <td>10.0</td>\n      <td>7.0</td>\n      <td>6.0</td>\n      <td>8.0</td>\n      <td>7.0</td>\n      <td>1000.0</td>\n      <td>8.0</td>\n      <td>7.0</td>\n      <td>12.0</td>\n      <td>7.0</td>\n      <td>...</td>\n      <td>8.0</td>\n      <td>8.0</td>\n      <td>10.0</td>\n      <td>7.0</td>\n      <td>8.0</td>\n      <td>8.0</td>\n      <td>8.0</td>\n      <td>9.0</td>\n      <td>9.0</td>\n      <td>9.0</td>\n    </tr>\n    <tr>\n      <td>6</td>\n      <td>13.0</td>\n      <td>6.0</td>\n      <td>6.0</td>\n      <td>6.0</td>\n      <td>8.0</td>\n      <td>8.0</td>\n      <td>1000.0</td>\n      <td>6.0</td>\n      <td>12.0</td>\n      <td>6.0</td>\n      <td>...</td>\n      <td>7.0</td>\n      <td>7.0</td>\n      <td>10.0</td>\n      <td>6.0</td>\n      <td>5.0</td>\n      <td>7.0</td>\n      <td>6.0</td>\n      <td>8.0</td>\n      <td>7.0</td>\n      <td>10.0</td>\n    </tr>\n    <tr>\n      <td>7</td>\n      <td>12.0</td>\n      <td>6.0</td>\n      <td>6.0</td>\n      <td>7.0</td>\n      <td>9.0</td>\n      <td>7.0</td>\n      <td>6.0</td>\n      <td>1000.0</td>\n      <td>11.0</td>\n      <td>6.0</td>\n      <td>...</td>\n      <td>7.0</td>\n      <td>7.0</td>\n      <td>11.0</td>\n      <td>6.0</td>\n      <td>7.0</td>\n      <td>7.0</td>\n      <td>7.0</td>\n      <td>8.0</td>\n      <td>7.0</td>\n      <td>10.0</td>\n    </tr>\n    <tr>\n      <td>8</td>\n      <td>10.0</td>\n      <td>13.0</td>\n      <td>11.0</td>\n      <td>11.0</td>\n      <td>12.0</td>\n      <td>12.0</td>\n      <td>12.0</td>\n      <td>11.0</td>\n      <td>1000.0</td>\n      <td>11.0</td>\n      <td>...</td>\n      <td>13.0</td>\n      <td>11.0</td>\n      <td>10.0</td>\n      <td>12.0</td>\n      <td>13.0</td>\n      <td>11.0</td>\n      <td>11.0</td>\n      <td>11.0</td>\n      <td>13.0</td>\n      <td>11.0</td>\n    </tr>\n    <tr>\n      <td>9</td>\n      <td>13.0</td>\n      <td>6.0</td>\n      <td>7.0</td>\n      <td>9.0</td>\n      <td>7.0</td>\n      <td>7.0</td>\n      <td>6.0</td>\n      <td>6.0</td>\n      <td>11.0</td>\n      <td>1000.0</td>\n      <td>...</td>\n      <td>5.0</td>\n      <td>6.0</td>\n      <td>10.0</td>\n      <td>7.0</td>\n      <td>6.0</td>\n      <td>6.0</td>\n      <td>6.0</td>\n      <td>8.0</td>\n      <td>6.0</td>\n      <td>9.0</td>\n    </tr>\n  </tbody>\n</table>\n<p>10 rows × 266 columns</p>\n</div>",
      "text/plain": "      0       1       2       3       4       5       6       7       8    \\\n0  1000.0    13.0    12.0    13.0    12.0    10.0    13.0    12.0    10.0   \n1    13.0  1000.0     5.0     7.0     8.0     7.0     6.0     6.0    13.0   \n2    12.0     5.0  1000.0     5.0     9.0     6.0     6.0     6.0    11.0   \n3    13.0     7.0     5.0  1000.0     8.0     8.0     6.0     7.0    11.0   \n4    12.0     8.0     9.0     8.0  1000.0     7.0     8.0     9.0    12.0   \n5    10.0     7.0     6.0     8.0     7.0  1000.0     8.0     7.0    12.0   \n6    13.0     6.0     6.0     6.0     8.0     8.0  1000.0     6.0    12.0   \n7    12.0     6.0     6.0     7.0     9.0     7.0     6.0  1000.0    11.0   \n8    10.0    13.0    11.0    11.0    12.0    12.0    12.0    11.0  1000.0   \n9    13.0     6.0     7.0     9.0     7.0     7.0     6.0     6.0    11.0   \n\n      9    ...   256   257   258   259   260   261   262   263   264   265  \n0    13.0  ...  14.0  11.0  12.0  13.0  14.0  13.0  14.0  11.0  15.0  13.0  \n1     6.0  ...   5.0   6.0  11.0   7.0   5.0   7.0   5.0   8.0   6.0  10.0  \n2     7.0  ...   6.0   6.0   9.0   6.0   6.0   7.0   7.0   8.0   7.0  10.0  \n3     9.0  ...   8.0   9.0  10.0   7.0   8.0   9.0   9.0   9.0   9.0  10.0  \n4     7.0  ...   9.0   9.0  11.0  10.0  10.0   9.0   9.0   9.0  10.0   8.0  \n5     7.0  ...   8.0   8.0  10.0   7.0   8.0   8.0   8.0   9.0   9.0   9.0  \n6     6.0  ...   7.0   7.0  10.0   6.0   5.0   7.0   6.0   8.0   7.0  10.0  \n7     6.0  ...   7.0   7.0  11.0   6.0   7.0   7.0   7.0   8.0   7.0  10.0  \n8    11.0  ...  13.0  11.0  10.0  12.0  13.0  11.0  11.0  11.0  13.0  11.0  \n9  1000.0  ...   5.0   6.0  10.0   7.0   6.0   6.0   6.0   8.0   6.0   9.0  \n\n[10 rows x 266 columns]"
     },
     "execution_count": 11,
     "metadata": {},
     "output_type": "execute_result"
    }
   ],
   "source": [
    "distance_matrix_df = pd.DataFrame(sq_distance_matrix)\n",
    "distance_matrix_df[:10]"
   ]
  },
  {
   "cell_type": "markdown",
   "metadata": {},
   "source": [
    "# Find closet match"
   ]
  },
  {
   "cell_type": "code",
   "execution_count": 12,
   "metadata": {},
   "outputs": [],
   "source": [
    "#get index\n",
    "min_idx = np.argmin(np.array(sq_distance_matrix), axis=1)"
   ]
  },
  {
   "cell_type": "code",
   "execution_count": 13,
   "metadata": {},
   "outputs": [],
   "source": [
    "#get value\n",
    "min_moves = np.min(np.array(sq_distance_matrix), axis=1)"
   ]
  },
  {
   "cell_type": "code",
   "execution_count": 14,
   "metadata": {},
   "outputs": [],
   "source": [
    "arg_mx_list_df = pd.DataFrame({'index':min_idx,'moves':min_moves})"
   ]
  },
  {
   "cell_type": "code",
   "execution_count": 15,
   "metadata": {},
   "outputs": [],
   "source": [
    "arg_mx_list_df = arg_mx_list_df.reset_index()"
   ]
  },
  {
   "cell_type": "code",
   "execution_count": 16,
   "metadata": {},
   "outputs": [],
   "source": [
    "cols = ['original_index','lookup_index','moves']\n",
    "arg_mx_list_df.columns = cols"
   ]
  },
  {
   "cell_type": "code",
   "execution_count": 17,
   "metadata": {},
   "outputs": [],
   "source": [
    "top_results = pd.merge(left=arg_mx_list_df,\n",
    "                               right=df, \n",
    "                               left_on='lookup_index', \n",
    "                               right_on='index')"
   ]
  },
  {
   "cell_type": "code",
   "execution_count": 19,
   "metadata": {},
   "outputs": [
    {
     "data": {
      "text/html": "<div>\n<style scoped>\n    .dataframe tbody tr th:only-of-type {\n        vertical-align: middle;\n    }\n\n    .dataframe tbody tr th {\n        vertical-align: top;\n    }\n\n    .dataframe thead th {\n        text-align: right;\n    }\n</style>\n<table border=\"1\" class=\"dataframe\">\n  <thead>\n    <tr style=\"text-align: right;\">\n      <th></th>\n      <th>original_index</th>\n      <th>lookup_index</th>\n      <th>moves</th>\n      <th>index</th>\n      <th>vegtable_names</th>\n    </tr>\n  </thead>\n  <tbody>\n    <tr>\n      <td>0</td>\n      <td>0</td>\n      <td>133</td>\n      <td>5.0</td>\n      <td>133</td>\n      <td>lflf Sprts</td>\n    </tr>\n    <tr>\n      <td>1</td>\n      <td>1</td>\n      <td>134</td>\n      <td>2.0</td>\n      <td>134</td>\n      <td>ppl</td>\n    </tr>\n    <tr>\n      <td>2</td>\n      <td>226</td>\n      <td>134</td>\n      <td>2.0</td>\n      <td>134</td>\n      <td>ppl</td>\n    </tr>\n    <tr>\n      <td>3</td>\n      <td>2</td>\n      <td>135</td>\n      <td>3.0</td>\n      <td>135</td>\n      <td>prct</td>\n    </tr>\n    <tr>\n      <td>4</td>\n      <td>3</td>\n      <td>136</td>\n      <td>4.0</td>\n      <td>136</td>\n      <td>rtchk</td>\n    </tr>\n  </tbody>\n</table>\n</div>",
      "text/plain": "   original_index  lookup_index  moves  index vegtable_names\n0               0           133    5.0    133     lflf Sprts\n1               1           134    2.0    134            ppl\n2             226           134    2.0    134            ppl\n3               2           135    3.0    135           prct\n4               3           136    4.0    136          rtchk"
     },
     "execution_count": 19,
     "metadata": {},
     "output_type": "execute_result"
    }
   ],
   "source": [
    "top_results[:5]"
   ]
  },
  {
   "cell_type": "code",
   "execution_count": 20,
   "metadata": {},
   "outputs": [],
   "source": [
    "df_sm = df[['index','vegtable_names']]"
   ]
  },
  {
   "cell_type": "code",
   "execution_count": 21,
   "metadata": {},
   "outputs": [],
   "source": [
    "final_df = pd.merge(left=top_results,\n",
    "                               right=df_sm, \n",
    "                               left_on='original_index', \n",
    "                               right_on='index')"
   ]
  },
  {
   "cell_type": "code",
   "execution_count": 23,
   "metadata": {},
   "outputs": [
    {
     "data": {
      "text/html": "<div>\n<style scoped>\n    .dataframe tbody tr th:only-of-type {\n        vertical-align: middle;\n    }\n\n    .dataframe tbody tr th {\n        vertical-align: top;\n    }\n\n    .dataframe thead th {\n        text-align: right;\n    }\n</style>\n<table border=\"1\" class=\"dataframe\">\n  <thead>\n    <tr style=\"text-align: right;\">\n      <th></th>\n      <th>original_index</th>\n      <th>lookup_index</th>\n      <th>moves</th>\n      <th>index_x</th>\n      <th>vegtable_names_x</th>\n      <th>index_y</th>\n      <th>vegtable_names_y</th>\n    </tr>\n  </thead>\n  <tbody>\n    <tr>\n      <td>0</td>\n      <td>0</td>\n      <td>133</td>\n      <td>5.0</td>\n      <td>133</td>\n      <td>lflf Sprts</td>\n      <td>0</td>\n      <td>Alfalfa Sprouts</td>\n    </tr>\n    <tr>\n      <td>1</td>\n      <td>1</td>\n      <td>134</td>\n      <td>2.0</td>\n      <td>134</td>\n      <td>ppl</td>\n      <td>1</td>\n      <td>Apple</td>\n    </tr>\n    <tr>\n      <td>2</td>\n      <td>226</td>\n      <td>134</td>\n      <td>2.0</td>\n      <td>134</td>\n      <td>ppl</td>\n      <td>226</td>\n      <td>Pnppl</td>\n    </tr>\n    <tr>\n      <td>3</td>\n      <td>2</td>\n      <td>135</td>\n      <td>3.0</td>\n      <td>135</td>\n      <td>prct</td>\n      <td>2</td>\n      <td>Apricot</td>\n    </tr>\n    <tr>\n      <td>4</td>\n      <td>3</td>\n      <td>136</td>\n      <td>4.0</td>\n      <td>136</td>\n      <td>rtchk</td>\n      <td>3</td>\n      <td>Artichoke</td>\n    </tr>\n    <tr>\n      <td>5</td>\n      <td>193</td>\n      <td>136</td>\n      <td>6.0</td>\n      <td>136</td>\n      <td>rtchk</td>\n      <td>193</td>\n      <td>Jrslm rtchk</td>\n    </tr>\n    <tr>\n      <td>6</td>\n      <td>4</td>\n      <td>137</td>\n      <td>5.0</td>\n      <td>137</td>\n      <td>sn Pr</td>\n      <td>4</td>\n      <td>Asian Pear</td>\n    </tr>\n    <tr>\n      <td>7</td>\n      <td>220</td>\n      <td>137</td>\n      <td>4.0</td>\n      <td>137</td>\n      <td>sn Pr</td>\n      <td>220</td>\n      <td>Pssn Frt</td>\n    </tr>\n    <tr>\n      <td>8</td>\n      <td>5</td>\n      <td>138</td>\n      <td>4.0</td>\n      <td>138</td>\n      <td>sprgs</td>\n      <td>5</td>\n      <td>Asparagus</td>\n    </tr>\n    <tr>\n      <td>9</td>\n      <td>6</td>\n      <td>33</td>\n      <td>4.0</td>\n      <td>33</td>\n      <td>Cherimoya</td>\n      <td>6</td>\n      <td>Atemoya</td>\n    </tr>\n  </tbody>\n</table>\n</div>",
      "text/plain": "   original_index  lookup_index  moves  index_x vegtable_names_x  index_y  \\\n0               0           133    5.0      133       lflf Sprts        0   \n1               1           134    2.0      134              ppl        1   \n2             226           134    2.0      134              ppl      226   \n3               2           135    3.0      135             prct        2   \n4               3           136    4.0      136            rtchk        3   \n5             193           136    6.0      136            rtchk      193   \n6               4           137    5.0      137            sn Pr        4   \n7             220           137    4.0      137            sn Pr      220   \n8               5           138    4.0      138            sprgs        5   \n9               6            33    4.0       33        Cherimoya        6   \n\n  vegtable_names_y  \n0  Alfalfa Sprouts  \n1            Apple  \n2            Pnppl  \n3          Apricot  \n4        Artichoke  \n5      Jrslm rtchk  \n6       Asian Pear  \n7         Pssn Frt  \n8        Asparagus  \n9          Atemoya  "
     },
     "execution_count": 23,
     "metadata": {},
     "output_type": "execute_result"
    }
   ],
   "source": [
    "final_df"
   ]
  },
  {
   "cell_type": "code",
   "execution_count": 35,
   "metadata": {},
   "outputs": [],
   "source": [
    "final_df = final_df[['original_index','vegtable_names_y','moves','lookup_index','vegtable_names_x',]]\n",
    "final_df = final_df.sort_values(by=['original_index'])\n",
    "final_df = final_df[:133]"
   ]
  },
  {
   "cell_type": "code",
   "execution_count": 37,
   "metadata": {},
   "outputs": [
    {
     "data": {
      "text/html": "<div>\n<style scoped>\n    .dataframe tbody tr th:only-of-type {\n        vertical-align: middle;\n    }\n\n    .dataframe tbody tr th {\n        vertical-align: top;\n    }\n\n    .dataframe thead th {\n        text-align: right;\n    }\n</style>\n<table border=\"1\" class=\"dataframe\">\n  <thead>\n    <tr style=\"text-align: right;\">\n      <th></th>\n      <th>original_index</th>\n      <th>original_vegtable_name</th>\n      <th>moves</th>\n      <th>lookup_index</th>\n      <th>lookup_vegtable_name</th>\n    </tr>\n  </thead>\n  <tbody>\n    <tr>\n      <td>0</td>\n      <td>0</td>\n      <td>Alfalfa Sprouts</td>\n      <td>5.0</td>\n      <td>133</td>\n      <td>lflf Sprts</td>\n    </tr>\n    <tr>\n      <td>1</td>\n      <td>1</td>\n      <td>Apple</td>\n      <td>2.0</td>\n      <td>134</td>\n      <td>ppl</td>\n    </tr>\n    <tr>\n      <td>3</td>\n      <td>2</td>\n      <td>Apricot</td>\n      <td>3.0</td>\n      <td>135</td>\n      <td>prct</td>\n    </tr>\n    <tr>\n      <td>4</td>\n      <td>3</td>\n      <td>Artichoke</td>\n      <td>4.0</td>\n      <td>136</td>\n      <td>rtchk</td>\n    </tr>\n    <tr>\n      <td>6</td>\n      <td>4</td>\n      <td>Asian Pear</td>\n      <td>5.0</td>\n      <td>137</td>\n      <td>sn Pr</td>\n    </tr>\n    <tr>\n      <td>...</td>\n      <td>...</td>\n      <td>...</td>\n      <td>...</td>\n      <td>...</td>\n      <td>...</td>\n    </tr>\n    <tr>\n      <td>80</td>\n      <td>128</td>\n      <td>Waxed Beans</td>\n      <td>4.0</td>\n      <td>52</td>\n      <td>Green Beans</td>\n    </tr>\n    <tr>\n      <td>180</td>\n      <td>129</td>\n      <td>Yams</td>\n      <td>2.0</td>\n      <td>203</td>\n      <td>Lms</td>\n    </tr>\n    <tr>\n      <td>184</td>\n      <td>130</td>\n      <td>Yellow Squash</td>\n      <td>5.0</td>\n      <td>263</td>\n      <td>llw Sqsh</td>\n    </tr>\n    <tr>\n      <td>185</td>\n      <td>131</td>\n      <td>Yuca/Cassava</td>\n      <td>6.0</td>\n      <td>264</td>\n      <td>c/Cssv</td>\n    </tr>\n    <tr>\n      <td>186</td>\n      <td>132</td>\n      <td>Zucchini Squash</td>\n      <td>5.0</td>\n      <td>265</td>\n      <td>Zcchn Sqsh</td>\n    </tr>\n  </tbody>\n</table>\n<p>133 rows × 5 columns</p>\n</div>",
      "text/plain": "     original_index original_vegtable_name  moves  lookup_index  \\\n0                 0        Alfalfa Sprouts    5.0           133   \n1                 1                  Apple    2.0           134   \n3                 2                Apricot    3.0           135   \n4                 3              Artichoke    4.0           136   \n6                 4             Asian Pear    5.0           137   \n..              ...                    ...    ...           ...   \n80              128            Waxed Beans    4.0            52   \n180             129                   Yams    2.0           203   \n184             130          Yellow Squash    5.0           263   \n185             131           Yuca/Cassava    6.0           264   \n186             132        Zucchini Squash    5.0           265   \n\n    lookup_vegtable_name  \n0             lflf Sprts  \n1                    ppl  \n3                   prct  \n4                  rtchk  \n6                  sn Pr  \n..                   ...  \n80           Green Beans  \n180                  Lms  \n184             llw Sqsh  \n185               c/Cssv  \n186           Zcchn Sqsh  \n\n[133 rows x 5 columns]"
     },
     "execution_count": 37,
     "metadata": {},
     "output_type": "execute_result"
    }
   ],
   "source": [
    "cols = [\n",
    "'original_index',\n",
    "'original_vegtable_name',\n",
    "'moves',\n",
    "'lookup_index',\n",
    "'lookup_vegtable_name'\n",
    "\n",
    "]\n",
    "\n",
    "final_df.columns = cols\n",
    "final_df"
   ]
  },
  {
   "cell_type": "code",
   "execution_count": 66,
   "metadata": {},
   "outputs": [],
   "source": [
    "final_df_new.to_csv('closest_match.csv')"
   ]
  }
 ],
 "metadata": {
  "kernelspec": {
   "display_name": "Python 3",
   "language": "python",
   "name": "python3"
  },
  "language_info": {
   "codemirror_mode": {
    "name": "ipython",
    "version": 3
   },
   "file_extension": ".py",
   "mimetype": "text/x-python",
   "name": "python",
   "nbconvert_exporter": "python",
   "pygments_lexer": "ipython3",
   "version": "3.7.4"
  }
 },
 "nbformat": 4,
 "nbformat_minor": 2
}
