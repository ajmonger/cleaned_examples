{
 "cells": [
  {
   "cell_type": "code",
   "execution_count": null,
   "metadata": {},
   "outputs": [],
   "source": [
    "!pip install feedparser"
   ]
  },
  {
   "cell_type": "code",
   "execution_count": null,
   "metadata": {},
   "outputs": [],
   "source": [
    "import requests, base64\n",
    "import json\n",
    "import pandas as pd\n",
    "import feedparser\n",
    "import re\n",
    "\n",
    "# https://github.com/kurtmckee/feedparser\n",
    "# https://wiki.python.org/moin/RssLibraries"
   ]
  },
  {
   "cell_type": "code",
   "execution_count": null,
   "metadata": {},
   "outputs": [],
   "source": [
    "#put app_id in url below\n",
    "\n",
    "def get_mentions():\n",
    "    \n",
    "    results = []\n",
    "    page_limit = 10\n",
    "    counter = 1\n",
    "    \n",
    "    print(counter)\n",
    "    first_url = 'https://itunes.apple.com/us/rss/customerreviews/id={app_id}/sortby=mostrecent/xml'\n",
    "    print(first_url)\n",
    "\n",
    "    feed = feedparser.parse(first_url)\n",
    "\n",
    "    for i in feed['entries']:  \n",
    "        results.append(i) \n",
    "\n",
    "    print(len(results))\n",
    "\n",
    "    next_url = feed['feed']['links'][5]['href']\n",
    "    \n",
    "    while counter <= page_limit:\n",
    "\n",
    "        feed = feedparser.parse(next_url)\n",
    "        \n",
    "        for i in feed['entries']:  \n",
    "            results.append(i)\n",
    "        \n",
    "        print(next_url)\n",
    "        next_url = feed['feed']['links'][5]['href']\n",
    "        \n",
    "        counter += 1\n",
    "        print(counter)\n",
    "        print(len(results))\n",
    "                \n",
    "    return results"
   ]
  },
  {
   "cell_type": "code",
   "execution_count": null,
   "metadata": {},
   "outputs": [],
   "source": [
    "mentions_json = get_mentions()"
   ]
  },
  {
   "cell_type": "code",
   "execution_count": null,
   "metadata": {},
   "outputs": [],
   "source": [
    "def clean_apple_store_reviews(json):\n",
    "    mentions_df = pd.DataFrame(json)\n",
    "    mentions_df = mentions_df[['updated',\n",
    "                                 'id',\n",
    "                                 'title',\n",
    "                                 'summary',\n",
    "                                 'im_votesum',\n",
    "                                 'im_votecount',\n",
    "                                 'im_rating',\n",
    "                                 'im_version',\n",
    "                                 'href',\n",
    "                                 'author']]\n",
    "    mentions_df = mentions_df.drop_duplicates()\n",
    "    \n",
    "    mentions_df['title'] = [re.sub(r'\\n',' ', x) for x in mentions_df['title']]\n",
    "    mentions_df['title'] = [re.sub(r'\\r',' ', x) for x in mentions_df['title']]\n",
    "    mentions_df['title'] = [re.sub(r'\\\\',' ', x) for x in mentions_df['title']]\n",
    "    mentions_df['title'] = [re.sub(r',','\\,', x) for x in mentions_df['title']]\n",
    "    mentions_df['title'] = [re.sub(r'  ',' ', x) for x in mentions_df['title']]\n",
    "    mentions_df['title'] = [x.strip() for x in mentions_df['title']]\n",
    "\n",
    "    mentions_df['summary'] = [re.sub(r'\\n',' ', x) for x in mentions_df['summary']]\n",
    "    mentions_df['summary'] = [re.sub(r'\\r',' ', x) for x in mentions_df['summary']]\n",
    "    mentions_df['summary'] = [re.sub(r'\\\\',' ', x) for x in mentions_df['summary']]\n",
    "    mentions_df['summary'] = [re.sub(r',','\\,', x) for x in mentions_df['summary']]\n",
    "    mentions_df['summary'] = [re.sub(r'  ',' ', x) for x in mentions_df['summary']]\n",
    "    mentions_df['summary'] = [x.strip() for x in mentions_df['summary']]\n",
    "    \n",
    "    mentions_df['store'] = 'Apple App Store'\n",
    "    mentions_df['android_device'] = None\n",
    "    mentions_df['androidOsVersion'] = None\n",
    "    mentions_df['android_thumbsUpCount'] = None\n",
    "    mentions_df['android_thumbsDownCount'] = None\n",
    "#     mentions_df['android_deviceMetadata'] = None\n",
    "    \n",
    "    #rename\n",
    "    mentions_df = mentions_df.rename(columns={\n",
    "                                'im_votesum':'apple_votesum',\n",
    "                                'im_votecount':'apple_votecount',\n",
    "                                'im_version':'app_version',\n",
    "                                'href':'apple_href',\n",
    "                                'im_rating':'rating'                                \n",
    "                               })\n",
    "    \n",
    "    #reorder\n",
    "    mentions_df = mentions_df[['store',\n",
    "                             'id',\n",
    "                             'author',\n",
    "                             'title',\n",
    "                             'summary',\n",
    "                             'rating',\n",
    "                             'app_version',\n",
    "                             'apple_href',\n",
    "                             'apple_votesum',\n",
    "                             'apple_votecount',\n",
    "                             'android_device',\n",
    "                             'androidOsVersion',\n",
    "                             'android_thumbsUpCount',\n",
    "                             'android_thumbsDownCount',\n",
    "#                              'android_deviceMetadata',\n",
    "                             'updated']]\n",
    "\n",
    "    return mentions_df\n",
    "    "
   ]
  },
  {
   "cell_type": "code",
   "execution_count": null,
   "metadata": {},
   "outputs": [],
   "source": [
    "final_df = clean_apple_store_reviews(mentions_json)"
   ]
  },
  {
   "cell_type": "code",
   "execution_count": null,
   "metadata": {},
   "outputs": [],
   "source": [
    "final_df.to_csv('results.csv',index=False)"
   ]
  }
 ],
 "metadata": {
  "kernelspec": {
   "display_name": "Python 3",
   "language": "python",
   "name": "python3"
  },
  "language_info": {
   "codemirror_mode": {
    "name": "ipython",
    "version": 3
   },
   "file_extension": ".py",
   "mimetype": "text/x-python",
   "name": "python",
   "nbconvert_exporter": "python",
   "pygments_lexer": "ipython3",
   "version": "3.7.3"
  }
 },
 "nbformat": 4,
 "nbformat_minor": 2
}
