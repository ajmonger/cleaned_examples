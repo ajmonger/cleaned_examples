{
 "cells": [
  {
   "cell_type": "markdown",
   "metadata": {},
   "source": [
    "# Import Libraries"
   ]
  },
  {
   "cell_type": "code",
   "execution_count": 1,
   "metadata": {},
   "outputs": [],
   "source": [
    "import requests, base64\n",
    "import json\n",
    "import pandas as pd"
   ]
  },
  {
   "cell_type": "markdown",
   "metadata": {},
   "source": [
    "# (Optional) Import UPC data"
   ]
  },
  {
   "cell_type": "code",
   "execution_count": 2,
   "metadata": {},
   "outputs": [],
   "source": [
    "data_raw = '___________.csv'"
   ]
  },
  {
   "cell_type": "code",
   "execution_count": 3,
   "metadata": {},
   "outputs": [],
   "source": [
    "df = pd.read_csv(data_raw)"
   ]
  },
  {
   "cell_type": "code",
   "execution_count": 4,
   "metadata": {},
   "outputs": [],
   "source": [
    "upc_df = df['gp_upc']"
   ]
  },
  {
   "cell_type": "code",
   "execution_count": 5,
   "metadata": {},
   "outputs": [],
   "source": [
    "# converting to string dtype \n",
    "df['gp_upc'] = df['gp_upc'].astype(str) \n",
    "  \n",
    "# width of output string \n",
    "width = 13\n",
    "  \n",
    "# calling method and overwriting series \n",
    "df['pad_upc'] = df['gp_upc'].str.zfill(width)"
   ]
  },
  {
   "cell_type": "code",
   "execution_count": 6,
   "metadata": {},
   "outputs": [],
   "source": [
    "upc_lst = list(df['pad_upc'])"
   ]
  },
  {
   "cell_type": "markdown",
   "metadata": {},
   "source": [
    "# API Creds"
   ]
  },
  {
   "cell_type": "code",
   "execution_count": 8,
   "metadata": {},
   "outputs": [],
   "source": [
    "# https://developer.kroger.com/\n",
    "    \n",
    "base_token_url = 'https://api.kroger.com/v1/connect/oauth2/token'\n",
    "usrPass = b'<client_id>:<client_secret>'\n",
    "b64Val = base64.b64encode(usrPass)\n",
    "b64Val = b64Val.decode(\"utf-8\")"
   ]
  },
  {
   "cell_type": "code",
   "execution_count": 9,
   "metadata": {},
   "outputs": [],
   "source": [
    "params= {'scope':'product.compact',\n",
    "        \"grant_type\": \"client_credentials\"\n",
    "        }\n",
    "\n",
    "headers = {\n",
    "    \"Content-Type\": \"application/x-www-form-urlencoded\",    \n",
    "    \"Authorization\": \"Basic %s\" % b64Val,\n",
    "  }"
   ]
  },
  {
   "cell_type": "code",
   "execution_count": 10,
   "metadata": {},
   "outputs": [],
   "source": [
    "token = requests.request(\"POST\", base_token_url, data=params, headers=headers)"
   ]
  },
  {
   "cell_type": "code",
   "execution_count": 11,
   "metadata": {},
   "outputs": [],
   "source": [
    "b = token.content\n",
    "r = json.loads(b.decode())"
   ]
  },
  {
   "cell_type": "code",
   "execution_count": 12,
   "metadata": {},
   "outputs": [],
   "source": [
    "access_token = r['access_token']"
   ]
  },
  {
   "cell_type": "markdown",
   "metadata": {},
   "source": [
    "# Set initial search criteria"
   ]
  },
  {
   "cell_type": "code",
   "execution_count": 13,
   "metadata": {},
   "outputs": [],
   "source": [
    "headers = {\n",
    "    \"Accept\": \"application/json\",\n",
    "    \"Authorization\": \"Bearer %s\" % access_token\n",
    "  }\n",
    "      \n",
    "url = \"https://api.kroger.com/v1/products\"\n",
    "\n",
    "querystring_one = {\n",
    "#                 \"filter.brand\":\"Silk\"\n",
    "                \"filter.term\" :\"eggs\",\n",
    "#                 \"filter.start\": \"10\",\n",
    "                \"filter.limit\" : \"200\"\n",
    "              }"
   ]
  },
  {
   "cell_type": "code",
   "execution_count": 14,
   "metadata": {},
   "outputs": [],
   "source": [
    "results = []\n",
    "\n",
    "response = requests.request(\"GET\", url, headers=headers, params=querystring_one)\n",
    "\n",
    "b = response.content\n",
    "raw = json.loads(b.decode())\n",
    "\n",
    "limit = int(raw['meta']['pagination']['limit'])\n",
    "total = int(raw['meta']['pagination']['total'])\n",
    "start = int(raw['meta']['pagination']['start'])\n",
    "\n",
    "for i in range(0,len(raw['data'])):\n",
    "    results.append(raw['data'][i])"
   ]
  },
  {
   "cell_type": "markdown",
   "metadata": {},
   "source": [
    "# Paginate Remaining Results"
   ]
  },
  {
   "cell_type": "markdown",
   "metadata": {},
   "source": [
    "There are two types of \"limit\".  \n",
    "- how many products to return \n",
    "- product number out of the total available"
   ]
  },
  {
   "cell_type": "code",
   "execution_count": 21,
   "metadata": {},
   "outputs": [
    {
     "name": "stdout",
     "output_type": "stream",
     "text": [
      "400\n",
      "600\n",
      "800\n",
      "1000\n",
      "1200\n",
      "1400\n",
      "1600\n",
      "1800\n",
      "2000\n",
      "2200\n",
      "2400\n",
      "2600\n",
      "2800\n",
      "3000\n",
      "3200\n",
      "3400\n",
      "3600\n",
      "3800\n",
      "4000\n",
      "4200\n",
      "4400\n",
      "4600\n",
      "4800\n",
      "5000\n",
      "5200\n",
      "5400\n",
      "5600\n",
      "5800\n",
      "6000\n",
      "6200\n",
      "6400\n",
      "6600\n",
      "6614\n"
     ]
    }
   ],
   "source": [
    "while limit < total:\n",
    "    \n",
    "    querystring_loop = {\n",
    "#                 \"filter.brand\":\"Silk\"\n",
    "                \"filter.term\" :\"eggs\",\n",
    "                \"filter.start\": str(limit),\n",
    "                \"filter.limit\" : \"200\"\n",
    "              }\n",
    "    response = requests.request(\"GET\", url, headers=headers, params=querystring_loop)\n",
    "    b = response.content\n",
    "    raw = json.loads(b.decode())\n",
    "    limit = int(raw['meta']['pagination']['limit'])\n",
    "    print(limit)\n",
    "\n",
    "    for i in raw['data']:  \n",
    "        results.append(i) "
   ]
  },
  {
   "cell_type": "code",
   "execution_count": 27,
   "metadata": {},
   "outputs": [
    {
     "data": {
      "text/plain": [
       "['productId',\n",
       " 'upc',\n",
       " 'aisleLocations',\n",
       " 'brand',\n",
       " 'categories',\n",
       " 'description',\n",
       " 'images',\n",
       " 'items',\n",
       " 'itemInformation',\n",
       " 'temperature']"
      ]
     },
     "execution_count": 27,
     "metadata": {},
     "output_type": "execute_result"
    }
   ],
   "source": [
    "list(results[0].keys())"
   ]
  },
  {
   "cell_type": "code",
   "execution_count": 29,
   "metadata": {},
   "outputs": [],
   "source": [
    "with open('______.txt', 'w') as outfile:\n",
    "    json.dump(results, outfile)"
   ]
  },
  {
   "cell_type": "code",
   "execution_count": 30,
   "metadata": {},
   "outputs": [],
   "source": [
    "# with open('______.txt') as json_file:\n",
    "#     data = json.load(json_file)"
   ]
  }
 ],
 "metadata": {
  "kernelspec": {
   "display_name": "Python 3",
   "language": "python",
   "name": "python3"
  },
  "language_info": {
   "codemirror_mode": {
    "name": "ipython",
    "version": 3
   },
   "file_extension": ".py",
   "mimetype": "text/x-python",
   "name": "python",
   "nbconvert_exporter": "python",
   "pygments_lexer": "ipython3",
   "version": "3.7.3"
  }
 },
 "nbformat": 4,
 "nbformat_minor": 2
}
