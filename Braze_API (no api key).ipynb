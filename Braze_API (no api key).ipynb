{
 "cells": [
  {
   "cell_type": "code",
   "execution_count": 1,
   "metadata": {},
   "outputs": [],
   "source": [
    "import requests, base64\n",
    "import json\n",
    "import pandas as pd"
   ]
  },
  {
   "cell_type": "code",
   "execution_count": 43,
   "metadata": {},
   "outputs": [],
   "source": [
    "df = pd.read_csv('.csv')\n",
    "df = df.reset_index()"
   ]
  },
  {
   "cell_type": "code",
   "execution_count": null,
   "metadata": {},
   "outputs": [],
   "source": [
    "for x in df['index']:\n",
    "    \n",
    "    external_id = df['external_id'][x]\n",
    "    int_ = df['api_int_test'][x]\n",
    "    string_ = df['api_string_test'][x]\n",
    "    array_ = df['api_array_test'][x]\n",
    "    float_ = df['api_float_test'][x]\n",
    "    \n",
    "    print(df['external_id'][x])\n",
    "    print(df['api_int_test'][x])\n",
    "    print(df['api_string_test'][x])\n",
    "    print(df['api_array_test'][x])\n",
    "    print(df['api_float_test'][x])\n",
    "    \n",
    "    url = \"https://rest.iad-01.braze.com/users/track\"\n",
    "\n",
    "    raw_payload = {\n",
    "      \"api_key\": \"\",    #Sandbox\n",
    "       \"attributes\": [{\"external_id\": str(external_id),\n",
    "                      \"A_api_int_test\": int(int_),\n",
    "                      \"A_api_string_test\": str(string_),\n",
    "                      \"A_api_float_test\": float_,\n",
    "                      \"A_api_array_test\": [int(int_),str(string_),float_],\n",
    "                      }]\n",
    "    }       \n",
    "        \n",
    "\n",
    "    payload = json.dumps(raw_payload, sort_keys=True)\n",
    "\n",
    "    headers = {\n",
    "      'Content-Type': 'application/json'\n",
    "    }\n",
    "\n",
    "    response = requests.request(\"POST\", url, headers=headers, data = payload)\n",
    "\n",
    "    print(response.text.encode('utf8'))"
   ]
  }
 ],
 "metadata": {
  "kernelspec": {
   "display_name": "Python 3",
   "language": "python",
   "name": "python3"
  },
  "language_info": {
   "codemirror_mode": {
    "name": "ipython",
    "version": 3
   },
   "file_extension": ".py",
   "mimetype": "text/x-python",
   "name": "python",
   "nbconvert_exporter": "python",
   "pygments_lexer": "ipython3",
   "version": "3.7.3"
  }
 },
 "nbformat": 4,
 "nbformat_minor": 2
}
